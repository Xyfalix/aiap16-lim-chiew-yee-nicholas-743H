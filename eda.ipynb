{
 "cells": [
  {
   "cell_type": "markdown",
   "metadata": {},
   "source": [
    "## Import relevant packages\n",
    "import pandas to read the csv file\n",
    "\n",
    "import matplotlib to visualise raw data\n",
    "\n",
    "import numpy to clean up and correct numerical data"
   ]
  },
  {
   "cell_type": "code",
   "execution_count": 124,
   "metadata": {},
   "outputs": [],
   "source": [
    "\n",
    "import pandas as pd\n",
    "import matplotlib\n",
    "from matplotlib import colors\n",
    "from matplotlib.backends import backend_agg\n",
    "import numpy as np\n",
    "%matplotlib inline\n"
   ]
  },
  {
   "cell_type": "markdown",
   "metadata": {},
   "source": [
    "## Use Pandas to read the CSV file in table form"
   ]
  },
  {
   "cell_type": "code",
   "execution_count": 125,
   "metadata": {},
   "outputs": [
    {
     "data": {
      "text/html": [
       "<div>\n",
       "<style scoped>\n",
       "    .dataframe tbody tr th:only-of-type {\n",
       "        vertical-align: middle;\n",
       "    }\n",
       "\n",
       "    .dataframe tbody tr th {\n",
       "        vertical-align: top;\n",
       "    }\n",
       "\n",
       "    .dataframe thead th {\n",
       "        text-align: right;\n",
       "    }\n",
       "</style>\n",
       "<table border=\"1\" class=\"dataframe\">\n",
       "  <thead>\n",
       "    <tr style=\"text-align: right;\">\n",
       "      <th></th>\n",
       "      <th>ID</th>\n",
       "      <th>Age</th>\n",
       "      <th>Gender</th>\n",
       "      <th>COPD History</th>\n",
       "      <th>Genetic Markers</th>\n",
       "      <th>Air Pollution Exposure</th>\n",
       "      <th>Last Weight</th>\n",
       "      <th>Current Weight</th>\n",
       "      <th>Start Smoking</th>\n",
       "      <th>Stop Smoking</th>\n",
       "      <th>Taken Bronchodilators</th>\n",
       "      <th>Frequency of Tiredness</th>\n",
       "      <th>Dominant Hand</th>\n",
       "      <th>Lung Cancer Occurrence</th>\n",
       "    </tr>\n",
       "  </thead>\n",
       "  <tbody>\n",
       "    <tr>\n",
       "      <th>0</th>\n",
       "      <td>14681542544117760</td>\n",
       "      <td>42</td>\n",
       "      <td>Male</td>\n",
       "      <td>No</td>\n",
       "      <td>Not Present</td>\n",
       "      <td>Medium</td>\n",
       "      <td>73</td>\n",
       "      <td>69</td>\n",
       "      <td>2015</td>\n",
       "      <td>2020</td>\n",
       "      <td>No</td>\n",
       "      <td>None / Low</td>\n",
       "      <td>Right</td>\n",
       "      <td>1</td>\n",
       "    </tr>\n",
       "    <tr>\n",
       "      <th>1</th>\n",
       "      <td>1271684316815736300</td>\n",
       "      <td>72</td>\n",
       "      <td>Male</td>\n",
       "      <td>Yes</td>\n",
       "      <td>Not Present</td>\n",
       "      <td>High</td>\n",
       "      <td>50</td>\n",
       "      <td>42</td>\n",
       "      <td>2006</td>\n",
       "      <td>2012</td>\n",
       "      <td>Yes</td>\n",
       "      <td>Medium</td>\n",
       "      <td>Right</td>\n",
       "      <td>1</td>\n",
       "    </tr>\n",
       "    <tr>\n",
       "      <th>2</th>\n",
       "      <td>1708068119984828000</td>\n",
       "      <td>65</td>\n",
       "      <td>Male</td>\n",
       "      <td>Yes</td>\n",
       "      <td>Not Present</td>\n",
       "      <td>Low</td>\n",
       "      <td>65</td>\n",
       "      <td>75</td>\n",
       "      <td>1998</td>\n",
       "      <td>Still Smoking</td>\n",
       "      <td>Yes</td>\n",
       "      <td>None / Low</td>\n",
       "      <td>Right</td>\n",
       "      <td>0</td>\n",
       "    </tr>\n",
       "    <tr>\n",
       "      <th>3</th>\n",
       "      <td>355582900676614900</td>\n",
       "      <td>67</td>\n",
       "      <td>Male</td>\n",
       "      <td>No</td>\n",
       "      <td>Not Present</td>\n",
       "      <td>High</td>\n",
       "      <td>69</td>\n",
       "      <td>58</td>\n",
       "      <td>2011</td>\n",
       "      <td>2014</td>\n",
       "      <td>No</td>\n",
       "      <td>None / Low</td>\n",
       "      <td>Right</td>\n",
       "      <td>1</td>\n",
       "    </tr>\n",
       "    <tr>\n",
       "      <th>4</th>\n",
       "      <td>1684597863357175300</td>\n",
       "      <td>54</td>\n",
       "      <td>Male</td>\n",
       "      <td>Yes</td>\n",
       "      <td>Not Present</td>\n",
       "      <td>Medium</td>\n",
       "      <td>46</td>\n",
       "      <td>40</td>\n",
       "      <td>1994</td>\n",
       "      <td>2017</td>\n",
       "      <td>Yes</td>\n",
       "      <td>None / Low</td>\n",
       "      <td>Right</td>\n",
       "      <td>0</td>\n",
       "    </tr>\n",
       "    <tr>\n",
       "      <th>...</th>\n",
       "      <td>...</td>\n",
       "      <td>...</td>\n",
       "      <td>...</td>\n",
       "      <td>...</td>\n",
       "      <td>...</td>\n",
       "      <td>...</td>\n",
       "      <td>...</td>\n",
       "      <td>...</td>\n",
       "      <td>...</td>\n",
       "      <td>...</td>\n",
       "      <td>...</td>\n",
       "      <td>...</td>\n",
       "      <td>...</td>\n",
       "      <td>...</td>\n",
       "    </tr>\n",
       "    <tr>\n",
       "      <th>10343</th>\n",
       "      <td>620214966225393400</td>\n",
       "      <td>47</td>\n",
       "      <td>Male</td>\n",
       "      <td>Yes</td>\n",
       "      <td>Present</td>\n",
       "      <td>Low</td>\n",
       "      <td>55</td>\n",
       "      <td>50</td>\n",
       "      <td>2009</td>\n",
       "      <td>Still Smoking</td>\n",
       "      <td>Yes</td>\n",
       "      <td>Medium</td>\n",
       "      <td>Right</td>\n",
       "      <td>0</td>\n",
       "    </tr>\n",
       "    <tr>\n",
       "      <th>10344</th>\n",
       "      <td>1157407185152395000</td>\n",
       "      <td>59</td>\n",
       "      <td>Female</td>\n",
       "      <td>Yes</td>\n",
       "      <td>Not Present</td>\n",
       "      <td>Low</td>\n",
       "      <td>80</td>\n",
       "      <td>81</td>\n",
       "      <td>2008</td>\n",
       "      <td>2011</td>\n",
       "      <td>Yes</td>\n",
       "      <td>Medium</td>\n",
       "      <td>RightBoth</td>\n",
       "      <td>0</td>\n",
       "    </tr>\n",
       "    <tr>\n",
       "      <th>10345</th>\n",
       "      <td>1488013696766258000</td>\n",
       "      <td>34</td>\n",
       "      <td>Male</td>\n",
       "      <td>No</td>\n",
       "      <td>Not Present</td>\n",
       "      <td>High</td>\n",
       "      <td>65</td>\n",
       "      <td>57</td>\n",
       "      <td>2020</td>\n",
       "      <td>Still Smoking</td>\n",
       "      <td>No</td>\n",
       "      <td>Medium</td>\n",
       "      <td>RightBoth</td>\n",
       "      <td>1</td>\n",
       "    </tr>\n",
       "    <tr>\n",
       "      <th>10346</th>\n",
       "      <td>398703475201552000</td>\n",
       "      <td>69</td>\n",
       "      <td>Male</td>\n",
       "      <td>No</td>\n",
       "      <td>Not Present</td>\n",
       "      <td>High</td>\n",
       "      <td>81</td>\n",
       "      <td>75</td>\n",
       "      <td>2014</td>\n",
       "      <td>Still Smoking</td>\n",
       "      <td>No</td>\n",
       "      <td>Medium</td>\n",
       "      <td>Right</td>\n",
       "      <td>1</td>\n",
       "    </tr>\n",
       "    <tr>\n",
       "      <th>10347</th>\n",
       "      <td>1297766628481064400</td>\n",
       "      <td>60</td>\n",
       "      <td>MALE</td>\n",
       "      <td>NaN</td>\n",
       "      <td>Not Present</td>\n",
       "      <td>Medium</td>\n",
       "      <td>82</td>\n",
       "      <td>75</td>\n",
       "      <td>1969</td>\n",
       "      <td>1982</td>\n",
       "      <td>No</td>\n",
       "      <td>None / Low</td>\n",
       "      <td>Right</td>\n",
       "      <td>0</td>\n",
       "    </tr>\n",
       "  </tbody>\n",
       "</table>\n",
       "<p>10348 rows × 14 columns</p>\n",
       "</div>"
      ],
      "text/plain": [
       "                        ID  Age  Gender COPD History Genetic Markers  \\\n",
       "0        14681542544117760   42    Male           No     Not Present   \n",
       "1      1271684316815736300   72    Male          Yes     Not Present   \n",
       "2      1708068119984828000   65    Male          Yes     Not Present   \n",
       "3       355582900676614900   67    Male           No     Not Present   \n",
       "4      1684597863357175300   54    Male          Yes     Not Present   \n",
       "...                    ...  ...     ...          ...             ...   \n",
       "10343   620214966225393400   47    Male          Yes         Present   \n",
       "10344  1157407185152395000   59  Female          Yes     Not Present   \n",
       "10345  1488013696766258000   34    Male           No     Not Present   \n",
       "10346   398703475201552000   69    Male           No     Not Present   \n",
       "10347  1297766628481064400   60    MALE          NaN     Not Present   \n",
       "\n",
       "      Air Pollution Exposure  Last Weight  Current Weight Start Smoking  \\\n",
       "0                     Medium           73              69          2015   \n",
       "1                       High           50              42          2006   \n",
       "2                        Low           65              75          1998   \n",
       "3                       High           69              58          2011   \n",
       "4                     Medium           46              40          1994   \n",
       "...                      ...          ...             ...           ...   \n",
       "10343                    Low           55              50          2009   \n",
       "10344                    Low           80              81          2008   \n",
       "10345                   High           65              57          2020   \n",
       "10346                   High           81              75          2014   \n",
       "10347                 Medium           82              75          1969   \n",
       "\n",
       "        Stop Smoking Taken Bronchodilators Frequency of Tiredness  \\\n",
       "0               2020                    No             None / Low   \n",
       "1               2012                   Yes                 Medium   \n",
       "2      Still Smoking                   Yes             None / Low   \n",
       "3               2014                    No             None / Low   \n",
       "4               2017                   Yes             None / Low   \n",
       "...              ...                   ...                    ...   \n",
       "10343  Still Smoking                   Yes                 Medium   \n",
       "10344           2011                   Yes                 Medium   \n",
       "10345  Still Smoking                    No                 Medium   \n",
       "10346  Still Smoking                    No                 Medium   \n",
       "10347           1982                    No             None / Low   \n",
       "\n",
       "      Dominant Hand  Lung Cancer Occurrence  \n",
       "0             Right                       1  \n",
       "1             Right                       1  \n",
       "2             Right                       0  \n",
       "3             Right                       1  \n",
       "4             Right                       0  \n",
       "...             ...                     ...  \n",
       "10343         Right                       0  \n",
       "10344     RightBoth                       0  \n",
       "10345     RightBoth                       1  \n",
       "10346         Right                       1  \n",
       "10347         Right                       0  \n",
       "\n",
       "[10348 rows x 14 columns]"
      ]
     },
     "execution_count": 125,
     "metadata": {},
     "output_type": "execute_result"
    }
   ],
   "source": [
    "lung_cancer_raw_data = pd.read_csv(\"data/lung_cancer.csv\")\n",
    "lung_cancer_raw_data"
   ]
  },
  {
   "cell_type": "markdown",
   "metadata": {},
   "source": [
    "## Check for abnormal, outliers, duplicates and missing data"
   ]
  },
  {
   "cell_type": "markdown",
   "metadata": {},
   "source": [
    "### Check for duplicate and non-numeric Patient IDs"
   ]
  },
  {
   "cell_type": "code",
   "execution_count": 126,
   "metadata": {},
   "outputs": [
    {
     "name": "stdout",
     "output_type": "stream",
     "text": [
      "Empty DataFrame\n",
      "Columns: [ID, Age, Gender, COPD History, Genetic Markers, Air Pollution Exposure, Last Weight, Current Weight, Start Smoking, Stop Smoking, Taken Bronchodilators, Frequency of Tiredness, Dominant Hand, Lung Cancer Occurrence]\n",
      "Index: []\n",
      "                        ID  Age  Gender COPD History Genetic Markers  \\\n",
      "1271      9360174299016192   65    Male          Yes         Present   \n",
      "10275     9360174299016192   65    Male          Yes         Present   \n",
      "10290    17888143256279296   61    Male          Yes     Not Present   \n",
      "658      17888143256279296   61    Male          Yes     Not Present   \n",
      "10198    19981913339388160   65  Female          Yes         Present   \n",
      "...                    ...  ...     ...          ...             ...   \n",
      "6908   2285686125137233700   69    Male          NaN     Not Present   \n",
      "294    2290146464812203500   78    Male          Yes         Present   \n",
      "10176  2290146464812203500   78    Male          Yes         Present   \n",
      "10093  2298459872211839500   74    MALE          Yes     Not Present   \n",
      "3480   2298459872211839500   74    MALE          Yes     Not Present   \n",
      "\n",
      "      Air Pollution Exposure  Last Weight  Current Weight   Start Smoking  \\\n",
      "1271                     Low           85              84            1995   \n",
      "10275                    Low           85              84            1995   \n",
      "10290                   High           94              93  Not Applicable   \n",
      "658                     High           94              93  Not Applicable   \n",
      "10198                   High           81              72            1994   \n",
      "...                      ...          ...             ...             ...   \n",
      "6908                     Low           90              83            2015   \n",
      "294                     High           45              46            1980   \n",
      "10176                   High           45              46            1980   \n",
      "10093                 Medium           91              95            2019   \n",
      "3480                  Medium           91              95            2019   \n",
      "\n",
      "         Stop Smoking Taken Bronchodilators Frequency of Tiredness  \\\n",
      "1271             2022                   NaN             None / Low   \n",
      "10275            2022                   NaN             None / Low   \n",
      "10290  Not Applicable                   Yes             None / Low   \n",
      "658    Not Applicable                   Yes             None / Low   \n",
      "10198   Still Smoking                   Yes                 Medium   \n",
      "...               ...                   ...                    ...   \n",
      "6908    Still Smoking                   NaN             None / Low   \n",
      "294              2002                   Yes                   High   \n",
      "10176            2002                   Yes                   High   \n",
      "10093            2019                   Yes             None / Low   \n",
      "3480             2019                   Yes             None / Low   \n",
      "\n",
      "      Dominant Hand  Lung Cancer Occurrence  \n",
      "1271      RightBoth                       0  \n",
      "10275     RightBoth                       0  \n",
      "10290         Right                       1  \n",
      "658           Right                       1  \n",
      "10198         Right                       1  \n",
      "...             ...                     ...  \n",
      "6908          Right                       0  \n",
      "294           Right                       1  \n",
      "10176         Right                       1  \n",
      "10093     RightBoth                       0  \n",
      "3480      RightBoth                       0  \n",
      "\n",
      "[700 rows x 14 columns]\n"
     ]
    },
    {
     "data": {
      "text/plain": [
       "False    9998\n",
       "Name: count, dtype: int64"
      ]
     },
     "execution_count": 126,
     "metadata": {},
     "output_type": "execute_result"
    }
   ],
   "source": [
    "# convert any non-numeric ID to NaN\n",
    "lung_cancer_raw_data['ID'] = pd.to_numeric(lung_cancer_raw_data['ID'], errors='coerce')\n",
    "\n",
    "# Filter rows with NaN\n",
    "non_numeric_rows = lung_cancer_raw_data[lung_cancer_raw_data['ID'].isna()]\n",
    "\n",
    "# Display NaN rows (if any). For this dataset, there are no NaN entries\n",
    "print(non_numeric_rows)\n",
    "\n",
    "# Identify duplicates based on the 'ID' column\n",
    "duplicates_mask = lung_cancer_raw_data['ID'].duplicated(keep=False)\n",
    "\n",
    "# Group the DataFrame by the 'ID' column\n",
    "grouped_duplicates = lung_cancer_raw_data[duplicates_mask].sort_values(by='ID')\n",
    "\n",
    "# Display the details of duplicated rows - duplicated entries appear to be entirely similar\n",
    "print(grouped_duplicates)\n",
    "\n",
    "# drop duplicate entries\n",
    "lung_cancer_raw_data.drop_duplicates(subset=['ID'], inplace=True)\n",
    "\n",
    "# Check that duplicate entries have been removed.\n",
    "check_duplicates = lung_cancer_raw_data.duplicated(subset=['ID'], keep='first')\n",
    "\n",
    "check_duplicates.value_counts()\n"
   ]
  },
  {
   "cell_type": "markdown",
   "metadata": {},
   "source": [
    "### Check for negative and missing Age values"
   ]
  },
  {
   "cell_type": "code",
   "execution_count": 127,
   "metadata": {},
   "outputs": [
    {
     "name": "stdout",
     "output_type": "stream",
     "text": [
      "               Age\n",
      "count  9998.000000\n",
      "mean     64.059412\n",
      "std      14.253842\n",
      "min      18.000000\n",
      "25%      54.000000\n",
      "50%      64.000000\n",
      "75%      74.000000\n",
      "max     120.000000\n"
     ]
    },
    {
     "data": {
      "text/plain": [
       "Age  \n",
       "False    9998\n",
       "Name: count, dtype: int64"
      ]
     },
     "execution_count": 127,
     "metadata": {},
     "output_type": "execute_result"
    }
   ],
   "source": [
    "# Create a boolean mask for negative Age values\n",
    "negative_age_mask = lung_cancer_raw_data['Age'] < 0\n",
    "\n",
    "# Filter rows with negative Age values\n",
    "rows_with_negative_age = lung_cancer_raw_data[negative_age_mask]\n",
    "\n",
    "# Update the 'Age' column by using numpy's abs function to convert all -ve ages to +ve\n",
    "lung_cancer_raw_data.loc[negative_age_mask, 'Age'] = np.abs(lung_cancer_raw_data.loc[negative_age_mask, 'Age'])\n",
    "\n",
    "# verify that -ve values in 'Age' column have been corrected.\n",
    "print(lung_cancer_raw_data[[\"Age\"]].describe())\n",
    "\n",
    "# check that there are no missing values for age\n",
    "lung_cancer_raw_data[[\"Age\"]].isnull().value_counts()\n"
   ]
  },
  {
   "cell_type": "markdown",
   "metadata": {},
   "source": [
    "### Check gender data for missing/mispelt entries"
   ]
  },
  {
   "cell_type": "code",
   "execution_count": 128,
   "metadata": {},
   "outputs": [
    {
     "name": "stdout",
     "output_type": "stream",
     "text": [
      "Gender\n",
      "Male      5778\n",
      "Female    4219\n",
      "Name: count, dtype: int64\n"
     ]
    },
    {
     "data": {
      "text/plain": [
       "Age  \n",
       "False    9997\n",
       "Name: count, dtype: int64"
      ]
     },
     "execution_count": 128,
     "metadata": {},
     "output_type": "execute_result"
    }
   ],
   "source": [
    "# Replace \"MALE\" with \"Male\" and \"FEMALE\" with \"Female\"\n",
    "lung_cancer_raw_data[\"Gender\"] = lung_cancer_raw_data[\"Gender\"].replace({\"MALE\": \"Male\", \"FEMALE\": \"Female\"})\n",
    "\n",
    "# Remove row where 'Gender' is 'NAN', since there is only 1 entry\n",
    "lung_cancer_raw_data = lung_cancer_raw_data[lung_cancer_raw_data['Gender'] != 'NAN']\n",
    "\n",
    "print(lung_cancer_raw_data[[\"Gender\"]].value_counts())\n",
    "\n",
    "lung_cancer_raw_data[[\"Age\"]].isnull().value_counts()"
   ]
  },
  {
   "cell_type": "markdown",
   "metadata": {},
   "source": [
    "### Check for non Yes/No entries in COPD History"
   ]
  },
  {
   "cell_type": "code",
   "execution_count": 129,
   "metadata": {},
   "outputs": [
    {
     "data": {
      "text/plain": [
       "COPD History\n",
       "Yes    5499\n",
       "No     4498\n",
       "Name: count, dtype: int64"
      ]
     },
     "execution_count": 129,
     "metadata": {},
     "output_type": "execute_result"
    }
   ],
   "source": [
    "# Check for values other than Yes/No\n",
    "lung_cancer_raw_data['COPD History'].value_counts(dropna=False)\n",
    "\n",
    "# Assumption made that null values should most likely by No, since COPD is a serious condition and it would most likely be documented if it occurred.\n",
    "lung_cancer_raw_data.loc[:, 'COPD History'] = lung_cancer_raw_data['COPD History'].fillna('No')\n",
    "\n",
    "# Verify that null values have been replaced with No\n",
    "lung_cancer_raw_data['COPD History'].value_counts(dropna=False)"
   ]
  },
  {
   "cell_type": "markdown",
   "metadata": {},
   "source": [
    "### Check for abnormal entries in Genetic Markers"
   ]
  },
  {
   "cell_type": "code",
   "execution_count": 130,
   "metadata": {},
   "outputs": [
    {
     "data": {
      "text/plain": [
       "Genetic Markers\n",
       "Not Present    7518\n",
       "Present        2479\n",
       "Name: count, dtype: int64"
      ]
     },
     "execution_count": 130,
     "metadata": {},
     "output_type": "execute_result"
    }
   ],
   "source": [
    "# Check that there are only Present/Not Present values\n",
    "lung_cancer_raw_data['Genetic Markers'].value_counts(dropna=False)"
   ]
  },
  {
   "cell_type": "markdown",
   "metadata": {},
   "source": [
    "### Check for abnormal entries in Air Pollution Exposure"
   ]
  },
  {
   "cell_type": "code",
   "execution_count": 131,
   "metadata": {},
   "outputs": [
    {
     "data": {
      "text/plain": [
       "Air Pollution Exposure\n",
       "High      6070\n",
       "Low       2336\n",
       "Medium    1588\n",
       "Name: count, dtype: int64"
      ]
     },
     "execution_count": 131,
     "metadata": {},
     "output_type": "execute_result"
    }
   ],
   "source": [
    "# Check that there are only High/Low/Medium values\n",
    "lung_cancer_raw_data['Air Pollution Exposure'].value_counts(dropna=False)\n",
    "\n",
    "# Remove the 3 NaN rows from dataset\n",
    "lung_cancer_raw_data = lung_cancer_raw_data.dropna(subset=['Air Pollution Exposure'])\n",
    "\n",
    "# verify that NaN values have been removed\n",
    "lung_cancer_raw_data['Air Pollution Exposure'].value_counts(dropna=False)"
   ]
  },
  {
   "cell_type": "markdown",
   "metadata": {},
   "source": [
    "### Check for non-numerical/negative entries in Last Weight and Current Weight"
   ]
  },
  {
   "cell_type": "code",
   "execution_count": 132,
   "metadata": {},
   "outputs": [
    {
     "name": "stdout",
     "output_type": "stream",
     "text": [
      "Empty DataFrame\n",
      "Columns: [ID, Age, Gender, COPD History, Genetic Markers, Air Pollution Exposure, Last Weight, Current Weight, Start Smoking, Stop Smoking, Taken Bronchodilators, Frequency of Tiredness, Dominant Hand, Lung Cancer Occurrence]\n",
      "Index: []\n",
      "Empty DataFrame\n",
      "Columns: [ID, Age, Gender, COPD History, Genetic Markers, Air Pollution Exposure, Last Weight, Current Weight, Start Smoking, Stop Smoking, Taken Bronchodilators, Frequency of Tiredness, Dominant Hand, Lung Cancer Occurrence]\n",
      "Index: []\n",
      "Empty DataFrame\n",
      "Columns: [ID, Age, Gender, COPD History, Genetic Markers, Air Pollution Exposure, Last Weight, Current Weight, Start Smoking, Stop Smoking, Taken Bronchodilators, Frequency of Tiredness, Dominant Hand, Lung Cancer Occurrence]\n",
      "Index: []\n",
      "Empty DataFrame\n",
      "Columns: [ID, Age, Gender, COPD History, Genetic Markers, Air Pollution Exposure, Last Weight, Current Weight, Start Smoking, Stop Smoking, Taken Bronchodilators, Frequency of Tiredness, Dominant Hand, Lung Cancer Occurrence]\n",
      "Index: []\n"
     ]
    }
   ],
   "source": [
    "# My assumption here is that any weight value < 20 is definitely an error on the basis that everyone sampled is an adult\n",
    "# Create a boolean mask for Last Weight values < 20\n",
    "negative_last_weight_mask = lung_cancer_raw_data['Last Weight'] < 20\n",
    "\n",
    "# Filter rows with negative Age values\n",
    "rows_with_negative_last_weight = lung_cancer_raw_data[negative_last_weight_mask]\n",
    "\n",
    "print(rows_with_negative_last_weight)\n",
    "\n",
    "# Create a boolean mask for Current Weight values < 20\n",
    "negative_current_weight_mask = lung_cancer_raw_data['Current Weight'] < 20\n",
    "\n",
    "rows_with_negative_current_weight = lung_cancer_raw_data[negative_current_weight_mask]\n",
    "\n",
    "print(rows_with_negative_current_weight)\n",
    "\n",
    "# convert any non-numeric weights to NaN\n",
    "lung_cancer_raw_data['Last Weight'] = pd.to_numeric(lung_cancer_raw_data['Last Weight'], errors='coerce')\n",
    "lung_cancer_raw_data['Current Weight'] = pd.to_numeric(lung_cancer_raw_data['Current Weight'], errors='coerce')\n",
    "\n",
    "# Filter rows with NaN\n",
    "non_numeric_lw_rows = lung_cancer_raw_data[lung_cancer_raw_data['Last Weight'].isna()]\n",
    "non_numeric_cw_rows = lung_cancer_raw_data[lung_cancer_raw_data['Current Weight'].isna()]\n",
    "\n",
    "# Display NaN rows (if any). For this dataset, there are no NaN entries\n",
    "print(non_numeric_lw_rows)\n",
    "print(non_numeric_cw_rows)\n",
    "\n",
    "# Conclusion: Last Weight and Current Weight Values are all intact and normal\n"
   ]
  },
  {
   "cell_type": "markdown",
   "metadata": {},
   "source": [
    "### Create a new column weight difference which takes Current Weight - Last Weight"
   ]
  },
  {
   "cell_type": "code",
   "execution_count": 133,
   "metadata": {},
   "outputs": [
    {
     "data": {
      "text/html": [
       "<div>\n",
       "<style scoped>\n",
       "    .dataframe tbody tr th:only-of-type {\n",
       "        vertical-align: middle;\n",
       "    }\n",
       "\n",
       "    .dataframe tbody tr th {\n",
       "        vertical-align: top;\n",
       "    }\n",
       "\n",
       "    .dataframe thead th {\n",
       "        text-align: right;\n",
       "    }\n",
       "</style>\n",
       "<table border=\"1\" class=\"dataframe\">\n",
       "  <thead>\n",
       "    <tr style=\"text-align: right;\">\n",
       "      <th></th>\n",
       "      <th>ID</th>\n",
       "      <th>Age</th>\n",
       "      <th>Gender</th>\n",
       "      <th>COPD History</th>\n",
       "      <th>Genetic Markers</th>\n",
       "      <th>Air Pollution Exposure</th>\n",
       "      <th>Last Weight</th>\n",
       "      <th>Current Weight</th>\n",
       "      <th>Start Smoking</th>\n",
       "      <th>Stop Smoking</th>\n",
       "      <th>Taken Bronchodilators</th>\n",
       "      <th>Frequency of Tiredness</th>\n",
       "      <th>Dominant Hand</th>\n",
       "      <th>Lung Cancer Occurrence</th>\n",
       "      <th>Weight Difference</th>\n",
       "    </tr>\n",
       "  </thead>\n",
       "  <tbody>\n",
       "    <tr>\n",
       "      <th>0</th>\n",
       "      <td>14681542544117760</td>\n",
       "      <td>42</td>\n",
       "      <td>Male</td>\n",
       "      <td>No</td>\n",
       "      <td>Not Present</td>\n",
       "      <td>Medium</td>\n",
       "      <td>73</td>\n",
       "      <td>69</td>\n",
       "      <td>2015</td>\n",
       "      <td>2020</td>\n",
       "      <td>No</td>\n",
       "      <td>None / Low</td>\n",
       "      <td>Right</td>\n",
       "      <td>1</td>\n",
       "      <td>-4</td>\n",
       "    </tr>\n",
       "    <tr>\n",
       "      <th>1</th>\n",
       "      <td>1271684316815736300</td>\n",
       "      <td>72</td>\n",
       "      <td>Male</td>\n",
       "      <td>Yes</td>\n",
       "      <td>Not Present</td>\n",
       "      <td>High</td>\n",
       "      <td>50</td>\n",
       "      <td>42</td>\n",
       "      <td>2006</td>\n",
       "      <td>2012</td>\n",
       "      <td>Yes</td>\n",
       "      <td>Medium</td>\n",
       "      <td>Right</td>\n",
       "      <td>1</td>\n",
       "      <td>-8</td>\n",
       "    </tr>\n",
       "    <tr>\n",
       "      <th>2</th>\n",
       "      <td>1708068119984828000</td>\n",
       "      <td>65</td>\n",
       "      <td>Male</td>\n",
       "      <td>Yes</td>\n",
       "      <td>Not Present</td>\n",
       "      <td>Low</td>\n",
       "      <td>65</td>\n",
       "      <td>75</td>\n",
       "      <td>1998</td>\n",
       "      <td>Still Smoking</td>\n",
       "      <td>Yes</td>\n",
       "      <td>None / Low</td>\n",
       "      <td>Right</td>\n",
       "      <td>0</td>\n",
       "      <td>10</td>\n",
       "    </tr>\n",
       "    <tr>\n",
       "      <th>3</th>\n",
       "      <td>355582900676614900</td>\n",
       "      <td>67</td>\n",
       "      <td>Male</td>\n",
       "      <td>No</td>\n",
       "      <td>Not Present</td>\n",
       "      <td>High</td>\n",
       "      <td>69</td>\n",
       "      <td>58</td>\n",
       "      <td>2011</td>\n",
       "      <td>2014</td>\n",
       "      <td>No</td>\n",
       "      <td>None / Low</td>\n",
       "      <td>Right</td>\n",
       "      <td>1</td>\n",
       "      <td>-11</td>\n",
       "    </tr>\n",
       "    <tr>\n",
       "      <th>4</th>\n",
       "      <td>1684597863357175300</td>\n",
       "      <td>54</td>\n",
       "      <td>Male</td>\n",
       "      <td>Yes</td>\n",
       "      <td>Not Present</td>\n",
       "      <td>Medium</td>\n",
       "      <td>46</td>\n",
       "      <td>40</td>\n",
       "      <td>1994</td>\n",
       "      <td>2017</td>\n",
       "      <td>Yes</td>\n",
       "      <td>None / Low</td>\n",
       "      <td>Right</td>\n",
       "      <td>0</td>\n",
       "      <td>-6</td>\n",
       "    </tr>\n",
       "  </tbody>\n",
       "</table>\n",
       "</div>"
      ],
      "text/plain": [
       "                    ID  Age Gender COPD History Genetic Markers  \\\n",
       "0    14681542544117760   42   Male           No     Not Present   \n",
       "1  1271684316815736300   72   Male          Yes     Not Present   \n",
       "2  1708068119984828000   65   Male          Yes     Not Present   \n",
       "3   355582900676614900   67   Male           No     Not Present   \n",
       "4  1684597863357175300   54   Male          Yes     Not Present   \n",
       "\n",
       "  Air Pollution Exposure  Last Weight  Current Weight Start Smoking  \\\n",
       "0                 Medium           73              69          2015   \n",
       "1                   High           50              42          2006   \n",
       "2                    Low           65              75          1998   \n",
       "3                   High           69              58          2011   \n",
       "4                 Medium           46              40          1994   \n",
       "\n",
       "    Stop Smoking Taken Bronchodilators Frequency of Tiredness Dominant Hand  \\\n",
       "0           2020                    No             None / Low         Right   \n",
       "1           2012                   Yes                 Medium         Right   \n",
       "2  Still Smoking                   Yes             None / Low         Right   \n",
       "3           2014                    No             None / Low         Right   \n",
       "4           2017                   Yes             None / Low         Right   \n",
       "\n",
       "   Lung Cancer Occurrence  Weight Difference  \n",
       "0                       1                 -4  \n",
       "1                       1                 -8  \n",
       "2                       0                 10  \n",
       "3                       1                -11  \n",
       "4                       0                 -6  "
      ]
     },
     "execution_count": 133,
     "metadata": {},
     "output_type": "execute_result"
    }
   ],
   "source": [
    "lung_cancer_raw_data['Weight Difference'] = lung_cancer_raw_data['Current Weight'] - lung_cancer_raw_data['Last Weight']\n",
    "lung_cancer_raw_data.head()"
   ]
  },
  {
   "cell_type": "markdown",
   "metadata": {},
   "source": [
    "### Check data for Start Smoking and Stop Smoking columns"
   ]
  },
  {
   "cell_type": "code",
   "execution_count": 134,
   "metadata": {},
   "outputs": [
    {
     "name": "stdout",
     "output_type": "stream",
     "text": [
      "['2015' '2006' '1998' '2011' '1994' '2001' '1982' '1996' '1959' '2020'\n",
      " '2008' '2012' '1976' '2000' 'Not Applicable' '2004' '1981' '1999' '1963'\n",
      " '1991' '1995' '2019' '1973' '1967' '2016' '1975' '2021' '1978' '1987'\n",
      " '1980' '2018' '2003' '1979' '1969' '2023' '1955' '2017' '1997' '1962'\n",
      " '2013' '2022' '1971' '1960' '2005' '1993' '1972' '2010' '1985' '2007'\n",
      " '2014' '1961' '1945' '1974' '1965' '1966' '2009' '1989' '1954' '1970'\n",
      " '1950' '1953' '1990' '1948' '1958' '1940' '1984' '1968' '1986' '1983'\n",
      " '1988' '1956' '2024' '1992' '1977' '1939' '2002' '1957' '1923' '1944'\n",
      " '1964' '1943' '1952' '1951' '1947' '1935' '1941' '1930' '1937' '1927'\n",
      " '1946' '1934' '1928' '1942' '1949' '1938' '1936' '1929']\n",
      "['2020' '2012' 'Still Smoking' '2014' '2017' '2022' '2009' '2021' '1999'\n",
      " '2016' 'Not Applicable' '1996' '1982' '1963' '1998' '2019' '2004' '1991'\n",
      " '1994' '2023' '2006' '2018' '2008' '2007' '1988' '1981' '1995' '1967'\n",
      " '2015' '1971' '1984' '2005' '2001' '2003' '2011' '1992' '2010' '2013'\n",
      " '1968' '1989' '1986' '1977' '2002' '1983' '1993' '1997' '1965' '1980'\n",
      " '1950' '1979' '1990' '1976' '2000' '1975' '1973' '1978' '1972' '1987'\n",
      " '1974' '1970' '1985' '1966' '1964' '1962' '1953' '1946' '1949' '1947'\n",
      " '1961' '1958' '1969' '1960' '1959' '1952' '1956' '1957' '1955' '1954'\n",
      " '1941' '1940' '1939' '1933' '1944' '1948']\n",
      "[2015 2006 1998 2011 1994 2001 1982 1996 1959 2020 2008 2012 1976 2000\n",
      "    0 2004 1981 1999 1963 1991 1995 2019 1973 1967 2016 1975 2021 1978\n",
      " 1987 1980 2018 2003 1979 1969 2023 1955 2017 1997 1962 2013 2022 1971\n",
      " 1960 2005 1993 1972 2010 1985 2007 2014 1961 1945 1974 1965 1966 2009\n",
      " 1989 1954 1970 1950 1953 1990 1948 1958 1940 1984 1968 1986 1983 1988\n",
      " 1956 2024 1992 1977 1939 2002 1957 1923 1944 1964 1943 1952 1951 1947\n",
      " 1935 1941 1930 1937 1927 1946 1934 1928 1942 1949 1938 1936 1929]\n",
      "[2015 2006 1998 2011 1994 2001 1982 1996 1959 2020 2008 2012 1976 2000\n",
      "    0 2004 1981 1999 1963 1991 1995 2019 1973 1967 2016 1975 2021 1978\n",
      " 1987 1980 2018 2003 1979 1969 2023 1955 2017 1997 1962 2013 2022 1971\n",
      " 1960 2005 1993 1972 2010 1985 2007 2014 1961 1945 1974 1965 1966 2009\n",
      " 1989 1954 1970 1950 1953 1990 1948 1958 1940 1984 1968 1986 1983 1988\n",
      " 1956 2024 1992 1977 1939 2002 1957 1923 1944 1964 1943 1952 1951 1947\n",
      " 1935 1941 1930 1937 1927 1946 1934 1928 1942 1949 1938 1936 1929]\n"
     ]
    }
   ],
   "source": [
    "print(lung_cancer_raw_data['Start Smoking'].unique())\n",
    "print(lung_cancer_raw_data['Stop Smoking'].unique())\n",
    "\n",
    "# Convert Not Applicable values for both columns to 0, Convert Still Smoking values in Stop Smoking Column to 2023.\n",
    "lung_cancer_raw_data['Start Smoking'] = lung_cancer_raw_data['Start Smoking'].replace('Not Applicable', 0)\n",
    "\n",
    "lung_cancer_raw_data['Stop Smoking'] = lung_cancer_raw_data['Stop Smoking'].replace('Not Applicable', 0)\n",
    "lung_cancer_raw_data['Stop Smoking'] = lung_cancer_raw_data['Stop Smoking'].replace('Still Smoking', 2024)\n",
    "\n",
    "# Convert Year string values into numerical values\n",
    "lung_cancer_raw_data['Start Smoking'] = pd.to_numeric(lung_cancer_raw_data['Start Smoking'], errors='coerce')\n",
    "lung_cancer_raw_data['Stop Smoking'] = pd.to_numeric(lung_cancer_raw_data['Stop Smoking'], errors='coerce')\n",
    "\n",
    "print(lung_cancer_raw_data['Start Smoking'].unique())\n",
    "print(lung_cancer_raw_data['Start Smoking'].unique())\n"
   ]
  },
  {
   "cell_type": "markdown",
   "metadata": {},
   "source": [
    "### Create a new column \"Smoking Duration (Years)\" which contains the duration each person has smoked"
   ]
  },
  {
   "cell_type": "code",
   "execution_count": 135,
   "metadata": {},
   "outputs": [
    {
     "data": {
      "text/plain": [
       "count    9994.000000\n",
       "mean       17.653892\n",
       "std        17.056571\n",
       "min         0.000000\n",
       "25%         4.000000\n",
       "50%        13.000000\n",
       "75%        27.000000\n",
       "max        91.000000\n",
       "Name: Smoking Duration (Years), dtype: float64"
      ]
     },
     "execution_count": 135,
     "metadata": {},
     "output_type": "execute_result"
    }
   ],
   "source": [
    "lung_cancer_raw_data[\"Smoking Duration (Years)\"] = lung_cancer_raw_data[\"Stop Smoking\"] - lung_cancer_raw_data[\"Start Smoking\"]\n",
    "lung_cancer_raw_data[\"Smoking Duration (Years)\"].describe()\n",
    "\n"
   ]
  },
  {
   "cell_type": "markdown",
   "metadata": {},
   "source": [
    "### Check for values in Taken Bronchodilators column that are non Yes/No"
   ]
  },
  {
   "cell_type": "code",
   "execution_count": 139,
   "metadata": {},
   "outputs": [
    {
     "data": {
      "text/plain": [
       "Taken Bronchodilators\n",
       "Yes    5548\n",
       "No     4446\n",
       "Name: count, dtype: int64"
      ]
     },
     "execution_count": 139,
     "metadata": {},
     "output_type": "execute_result"
    }
   ],
   "source": [
    "lung_cancer_raw_data['Taken Bronchodilators'].value_counts(dropna=False)\n",
    "\n",
    "# There are 1026 entires of NaN for this column, which I will fill with No. The assumption here is that there would be documented record if person has taken Bronchodilators\n",
    "lung_cancer_raw_data.loc[:, 'Taken Bronchodilators'] = lung_cancer_raw_data['Taken Bronchodilators'].fillna('No')\n",
    "\n",
    "lung_cancer_raw_data['Taken Bronchodilators'].value_counts(dropna=False)"
   ]
  },
  {
   "cell_type": "markdown",
   "metadata": {},
   "source": [
    "### Check for null values in Frequency of Tiredness Column"
   ]
  },
  {
   "cell_type": "code",
   "execution_count": 140,
   "metadata": {},
   "outputs": [
    {
     "data": {
      "text/plain": [
       "Frequency of Tiredness\n",
       "None / Low    4647\n",
       "Medium        2676\n",
       "High          2671\n",
       "Name: count, dtype: int64"
      ]
     },
     "execution_count": 140,
     "metadata": {},
     "output_type": "execute_result"
    }
   ],
   "source": [
    "lung_cancer_raw_data['Frequency of Tiredness'].value_counts(dropna=False)\n",
    "\n",
    "# Conclusion: No abnormal data found"
   ]
  },
  {
   "cell_type": "markdown",
   "metadata": {},
   "source": [
    "### Check for null values in Dominant Hand Column"
   ]
  },
  {
   "cell_type": "code",
   "execution_count": 141,
   "metadata": {},
   "outputs": [
    {
     "data": {
      "text/plain": [
       "Dominant Hand\n",
       "Right        6669\n",
       "Left         1683\n",
       "RightBoth    1642\n",
       "Name: count, dtype: int64"
      ]
     },
     "execution_count": 141,
     "metadata": {},
     "output_type": "execute_result"
    }
   ],
   "source": [
    "lung_cancer_raw_data['Dominant Hand'].value_counts(dropna=False)\n",
    "\n",
    "# Conclusion: No abnormal data found"
   ]
  },
  {
   "cell_type": "markdown",
   "metadata": {},
   "source": [
    "### Check for values in Lung Cancer Occurrence that are not 1 or 0"
   ]
  },
  {
   "cell_type": "code",
   "execution_count": 142,
   "metadata": {},
   "outputs": [
    {
     "data": {
      "text/plain": [
       "Lung Cancer Occurrence\n",
       "1    5438\n",
       "0    4556\n",
       "Name: count, dtype: int64"
      ]
     },
     "execution_count": 142,
     "metadata": {},
     "output_type": "execute_result"
    }
   ],
   "source": [
    "lung_cancer_raw_data['Lung Cancer Occurrence'].value_counts(dropna=False)\n",
    "\n",
    "# Conclusion: No abnormal data found"
   ]
  },
  {
   "cell_type": "markdown",
   "metadata": {},
   "source": [
    "### Export cleaned data into a fresh file for analysis"
   ]
  },
  {
   "cell_type": "code",
   "execution_count": 143,
   "metadata": {},
   "outputs": [],
   "source": [
    "lung_cancer_raw_data.to_csv('data/cleaned_lung_cancer.csv', index=False)\n"
   ]
  },
  {
   "cell_type": "markdown",
   "metadata": {},
   "source": [
    "### Visualise and get statistics for each independent variable vs the dependent variable (lung cancer occurrence) to see if there is any significant correlation between the 2. Significant correlation could be positive or negative, and would be a large difference between those without lung cancer, and those with lung cancer for that independent variable.\n",
    "\n",
    "### Independent variables deemed significant will be included inside the data for machine learning."
   ]
  },
  {
   "cell_type": "code",
   "execution_count": 111,
   "metadata": {},
   "outputs": [
    {
     "data": {
      "text/html": [
       "<div>\n",
       "<style scoped>\n",
       "    .dataframe tbody tr th:only-of-type {\n",
       "        vertical-align: middle;\n",
       "    }\n",
       "\n",
       "    .dataframe tbody tr th {\n",
       "        vertical-align: top;\n",
       "    }\n",
       "\n",
       "    .dataframe thead th {\n",
       "        text-align: right;\n",
       "    }\n",
       "</style>\n",
       "<table border=\"1\" class=\"dataframe\">\n",
       "  <thead>\n",
       "    <tr style=\"text-align: right;\">\n",
       "      <th></th>\n",
       "      <th>count</th>\n",
       "      <th>mean</th>\n",
       "      <th>std</th>\n",
       "      <th>min</th>\n",
       "      <th>25%</th>\n",
       "      <th>50%</th>\n",
       "      <th>75%</th>\n",
       "      <th>max</th>\n",
       "    </tr>\n",
       "    <tr>\n",
       "      <th>Lung Cancer Occurrence</th>\n",
       "      <th></th>\n",
       "      <th></th>\n",
       "      <th></th>\n",
       "      <th></th>\n",
       "      <th></th>\n",
       "      <th></th>\n",
       "      <th></th>\n",
       "      <th></th>\n",
       "    </tr>\n",
       "  </thead>\n",
       "  <tbody>\n",
       "    <tr>\n",
       "      <th>0</th>\n",
       "      <td>4556.0</td>\n",
       "      <td>63.909350</td>\n",
       "      <td>13.604299</td>\n",
       "      <td>18.0</td>\n",
       "      <td>55.0</td>\n",
       "      <td>64.0</td>\n",
       "      <td>73.0</td>\n",
       "      <td>115.0</td>\n",
       "    </tr>\n",
       "    <tr>\n",
       "      <th>1</th>\n",
       "      <td>5438.0</td>\n",
       "      <td>64.184627</td>\n",
       "      <td>14.779618</td>\n",
       "      <td>18.0</td>\n",
       "      <td>54.0</td>\n",
       "      <td>64.0</td>\n",
       "      <td>74.0</td>\n",
       "      <td>120.0</td>\n",
       "    </tr>\n",
       "  </tbody>\n",
       "</table>\n",
       "</div>"
      ],
      "text/plain": [
       "                         count       mean        std   min   25%   50%   75%  \\\n",
       "Lung Cancer Occurrence                                                         \n",
       "0                       4556.0  63.909350  13.604299  18.0  55.0  64.0  73.0   \n",
       "1                       5438.0  64.184627  14.779618  18.0  54.0  64.0  74.0   \n",
       "\n",
       "                          max  \n",
       "Lung Cancer Occurrence         \n",
       "0                       115.0  \n",
       "1                       120.0  "
      ]
     },
     "execution_count": 111,
     "metadata": {},
     "output_type": "execute_result"
    }
   ],
   "source": [
    "lung_cancer_vs_age = lung_cancer_raw_data.groupby('Lung Cancer Occurrence')['Age'].describe()\n",
    "lung_cancer_vs_age"
   ]
  },
  {
   "cell_type": "code",
   "execution_count": 112,
   "metadata": {},
   "outputs": [
    {
     "data": {
      "text/plain": [
       "<Axes: >"
      ]
     },
     "execution_count": 112,
     "metadata": {},
     "output_type": "execute_result"
    },
    {
     "data": {
      "image/png": "[encoded data removed]",
      "text/plain": [
       "<Figure size 600x600 with 1 Axes>"
      ]
     },
     "metadata": {},
     "output_type": "display_data"
    }
   ],
   "source": [
    "lung_cancer_raw_data.pivot(columns='Lung Cancer Occurrence', values='Age').plot(kind='box', figsize=(6,6))"
   ]
  },
  {
   "cell_type": "code",
   "execution_count": null,
   "metadata": {},
   "outputs": [],
   "source": []
  }
 ],
 "metadata": {
  "kernelspec": {
   "display_name": "venv",
   "language": "python",
   "name": "python3"
  },
  "language_info": {
   "codemirror_mode": {
    "name": "ipython",
    "version": 3
   },
   "file_extension": ".py",
   "mimetype": "text/x-python",
   "name": "python",
   "nbconvert_exporter": "python",
   "pygments_lexer": "ipython3",
   "version": "3.9.6"
  }
 },
 "nbformat": 4,
 "nbformat_minor": 2
}
