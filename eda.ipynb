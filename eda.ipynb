{
 "cells": [
  {
   "cell_type": "markdown",
   "metadata": {},
   "source": [
    "## Import relevant packages\n",
    "import pandas to read the csv file\n",
    "\n",
    "import matplotlib to visualise raw data\n",
    "\n",
    "import numpy to clean up and correct numerical data"
   ]
  },
  {
   "cell_type": "code",
   "execution_count": 25,
   "metadata": {},
   "outputs": [],
   "source": [
    "\n",
    "import pandas as pd\n",
    "import matplotlib\n",
    "from matplotlib import colors\n",
    "from matplotlib.backends import backend_agg\n",
    "import numpy as np\n",
    "%matplotlib inline\n"
   ]
  },
  {
   "cell_type": "markdown",
   "metadata": {},
   "source": [
    "## Use Pandas to read the CSV file in table form"
   ]
  },
  {
   "cell_type": "code",
   "execution_count": 15,
   "metadata": {},
   "outputs": [
    {
     "data": {
      "text/html": [
       "<div>\n",
       "<style scoped>\n",
       "    .dataframe tbody tr th:only-of-type {\n",
       "        vertical-align: middle;\n",
       "    }\n",
       "\n",
       "    .dataframe tbody tr th {\n",
       "        vertical-align: top;\n",
       "    }\n",
       "\n",
       "    .dataframe thead th {\n",
       "        text-align: right;\n",
       "    }\n",
       "</style>\n",
       "<table border=\"1\" class=\"dataframe\">\n",
       "  <thead>\n",
       "    <tr style=\"text-align: right;\">\n",
       "      <th></th>\n",
       "      <th>ID</th>\n",
       "      <th>Age</th>\n",
       "      <th>Gender</th>\n",
       "      <th>COPD History</th>\n",
       "      <th>Genetic Markers</th>\n",
       "      <th>Air Pollution Exposure</th>\n",
       "      <th>Last Weight</th>\n",
       "      <th>Current Weight</th>\n",
       "      <th>Start Smoking</th>\n",
       "      <th>Stop Smoking</th>\n",
       "      <th>Taken Bronchodilators</th>\n",
       "      <th>Frequency of Tiredness</th>\n",
       "      <th>Dominant Hand</th>\n",
       "      <th>Lung Cancer Occurrence</th>\n",
       "    </tr>\n",
       "  </thead>\n",
       "  <tbody>\n",
       "    <tr>\n",
       "      <th>0</th>\n",
       "      <td>14681542544117760</td>\n",
       "      <td>42</td>\n",
       "      <td>Male</td>\n",
       "      <td>No</td>\n",
       "      <td>Not Present</td>\n",
       "      <td>Medium</td>\n",
       "      <td>73</td>\n",
       "      <td>69</td>\n",
       "      <td>2015</td>\n",
       "      <td>2020</td>\n",
       "      <td>No</td>\n",
       "      <td>None / Low</td>\n",
       "      <td>Right</td>\n",
       "      <td>1</td>\n",
       "    </tr>\n",
       "    <tr>\n",
       "      <th>1</th>\n",
       "      <td>1271684316815736300</td>\n",
       "      <td>72</td>\n",
       "      <td>Male</td>\n",
       "      <td>Yes</td>\n",
       "      <td>Not Present</td>\n",
       "      <td>High</td>\n",
       "      <td>50</td>\n",
       "      <td>42</td>\n",
       "      <td>2006</td>\n",
       "      <td>2012</td>\n",
       "      <td>Yes</td>\n",
       "      <td>Medium</td>\n",
       "      <td>Right</td>\n",
       "      <td>1</td>\n",
       "    </tr>\n",
       "    <tr>\n",
       "      <th>2</th>\n",
       "      <td>1708068119984828000</td>\n",
       "      <td>65</td>\n",
       "      <td>Male</td>\n",
       "      <td>Yes</td>\n",
       "      <td>Not Present</td>\n",
       "      <td>Low</td>\n",
       "      <td>65</td>\n",
       "      <td>75</td>\n",
       "      <td>1998</td>\n",
       "      <td>Still Smoking</td>\n",
       "      <td>Yes</td>\n",
       "      <td>None / Low</td>\n",
       "      <td>Right</td>\n",
       "      <td>0</td>\n",
       "    </tr>\n",
       "    <tr>\n",
       "      <th>3</th>\n",
       "      <td>355582900676614900</td>\n",
       "      <td>67</td>\n",
       "      <td>Male</td>\n",
       "      <td>No</td>\n",
       "      <td>Not Present</td>\n",
       "      <td>High</td>\n",
       "      <td>69</td>\n",
       "      <td>58</td>\n",
       "      <td>2011</td>\n",
       "      <td>2014</td>\n",
       "      <td>No</td>\n",
       "      <td>None / Low</td>\n",
       "      <td>Right</td>\n",
       "      <td>1</td>\n",
       "    </tr>\n",
       "    <tr>\n",
       "      <th>4</th>\n",
       "      <td>1684597863357175300</td>\n",
       "      <td>54</td>\n",
       "      <td>Male</td>\n",
       "      <td>Yes</td>\n",
       "      <td>Not Present</td>\n",
       "      <td>Medium</td>\n",
       "      <td>46</td>\n",
       "      <td>40</td>\n",
       "      <td>1994</td>\n",
       "      <td>2017</td>\n",
       "      <td>Yes</td>\n",
       "      <td>None / Low</td>\n",
       "      <td>Right</td>\n",
       "      <td>0</td>\n",
       "    </tr>\n",
       "    <tr>\n",
       "      <th>...</th>\n",
       "      <td>...</td>\n",
       "      <td>...</td>\n",
       "      <td>...</td>\n",
       "      <td>...</td>\n",
       "      <td>...</td>\n",
       "      <td>...</td>\n",
       "      <td>...</td>\n",
       "      <td>...</td>\n",
       "      <td>...</td>\n",
       "      <td>...</td>\n",
       "      <td>...</td>\n",
       "      <td>...</td>\n",
       "      <td>...</td>\n",
       "      <td>...</td>\n",
       "    </tr>\n",
       "    <tr>\n",
       "      <th>10343</th>\n",
       "      <td>620214966225393400</td>\n",
       "      <td>47</td>\n",
       "      <td>Male</td>\n",
       "      <td>Yes</td>\n",
       "      <td>Present</td>\n",
       "      <td>Low</td>\n",
       "      <td>55</td>\n",
       "      <td>50</td>\n",
       "      <td>2009</td>\n",
       "      <td>Still Smoking</td>\n",
       "      <td>Yes</td>\n",
       "      <td>Medium</td>\n",
       "      <td>Right</td>\n",
       "      <td>0</td>\n",
       "    </tr>\n",
       "    <tr>\n",
       "      <th>10344</th>\n",
       "      <td>1157407185152395000</td>\n",
       "      <td>59</td>\n",
       "      <td>Female</td>\n",
       "      <td>Yes</td>\n",
       "      <td>Not Present</td>\n",
       "      <td>Low</td>\n",
       "      <td>80</td>\n",
       "      <td>81</td>\n",
       "      <td>2008</td>\n",
       "      <td>2011</td>\n",
       "      <td>Yes</td>\n",
       "      <td>Medium</td>\n",
       "      <td>RightBoth</td>\n",
       "      <td>0</td>\n",
       "    </tr>\n",
       "    <tr>\n",
       "      <th>10345</th>\n",
       "      <td>1488013696766258000</td>\n",
       "      <td>34</td>\n",
       "      <td>Male</td>\n",
       "      <td>No</td>\n",
       "      <td>Not Present</td>\n",
       "      <td>High</td>\n",
       "      <td>65</td>\n",
       "      <td>57</td>\n",
       "      <td>2020</td>\n",
       "      <td>Still Smoking</td>\n",
       "      <td>No</td>\n",
       "      <td>Medium</td>\n",
       "      <td>RightBoth</td>\n",
       "      <td>1</td>\n",
       "    </tr>\n",
       "    <tr>\n",
       "      <th>10346</th>\n",
       "      <td>398703475201552000</td>\n",
       "      <td>69</td>\n",
       "      <td>Male</td>\n",
       "      <td>No</td>\n",
       "      <td>Not Present</td>\n",
       "      <td>High</td>\n",
       "      <td>81</td>\n",
       "      <td>75</td>\n",
       "      <td>2014</td>\n",
       "      <td>Still Smoking</td>\n",
       "      <td>No</td>\n",
       "      <td>Medium</td>\n",
       "      <td>Right</td>\n",
       "      <td>1</td>\n",
       "    </tr>\n",
       "    <tr>\n",
       "      <th>10347</th>\n",
       "      <td>1297766628481064400</td>\n",
       "      <td>60</td>\n",
       "      <td>MALE</td>\n",
       "      <td>NaN</td>\n",
       "      <td>Not Present</td>\n",
       "      <td>Medium</td>\n",
       "      <td>82</td>\n",
       "      <td>75</td>\n",
       "      <td>1969</td>\n",
       "      <td>1982</td>\n",
       "      <td>No</td>\n",
       "      <td>None / Low</td>\n",
       "      <td>Right</td>\n",
       "      <td>0</td>\n",
       "    </tr>\n",
       "  </tbody>\n",
       "</table>\n",
       "<p>10348 rows × 14 columns</p>\n",
       "</div>"
      ],
      "text/plain": [
       "                        ID  Age  Gender COPD History Genetic Markers  \\\n",
       "0        14681542544117760   42    Male           No     Not Present   \n",
       "1      1271684316815736300   72    Male          Yes     Not Present   \n",
       "2      1708068119984828000   65    Male          Yes     Not Present   \n",
       "3       355582900676614900   67    Male           No     Not Present   \n",
       "4      1684597863357175300   54    Male          Yes     Not Present   \n",
       "...                    ...  ...     ...          ...             ...   \n",
       "10343   620214966225393400   47    Male          Yes         Present   \n",
       "10344  1157407185152395000   59  Female          Yes     Not Present   \n",
       "10345  1488013696766258000   34    Male           No     Not Present   \n",
       "10346   398703475201552000   69    Male           No     Not Present   \n",
       "10347  1297766628481064400   60    MALE          NaN     Not Present   \n",
       "\n",
       "      Air Pollution Exposure  Last Weight  Current Weight Start Smoking  \\\n",
       "0                     Medium           73              69          2015   \n",
       "1                       High           50              42          2006   \n",
       "2                        Low           65              75          1998   \n",
       "3                       High           69              58          2011   \n",
       "4                     Medium           46              40          1994   \n",
       "...                      ...          ...             ...           ...   \n",
       "10343                    Low           55              50          2009   \n",
       "10344                    Low           80              81          2008   \n",
       "10345                   High           65              57          2020   \n",
       "10346                   High           81              75          2014   \n",
       "10347                 Medium           82              75          1969   \n",
       "\n",
       "        Stop Smoking Taken Bronchodilators Frequency of Tiredness  \\\n",
       "0               2020                    No             None / Low   \n",
       "1               2012                   Yes                 Medium   \n",
       "2      Still Smoking                   Yes             None / Low   \n",
       "3               2014                    No             None / Low   \n",
       "4               2017                   Yes             None / Low   \n",
       "...              ...                   ...                    ...   \n",
       "10343  Still Smoking                   Yes                 Medium   \n",
       "10344           2011                   Yes                 Medium   \n",
       "10345  Still Smoking                    No                 Medium   \n",
       "10346  Still Smoking                    No                 Medium   \n",
       "10347           1982                    No             None / Low   \n",
       "\n",
       "      Dominant Hand  Lung Cancer Occurrence  \n",
       "0             Right                       1  \n",
       "1             Right                       1  \n",
       "2             Right                       0  \n",
       "3             Right                       1  \n",
       "4             Right                       0  \n",
       "...             ...                     ...  \n",
       "10343         Right                       0  \n",
       "10344     RightBoth                       0  \n",
       "10345     RightBoth                       1  \n",
       "10346         Right                       1  \n",
       "10347         Right                       0  \n",
       "\n",
       "[10348 rows x 14 columns]"
      ]
     },
     "execution_count": 15,
     "metadata": {},
     "output_type": "execute_result"
    }
   ],
   "source": [
    "lung_cancer_raw_data = pd.read_csv(\"data/lung_cancer.csv\")\n",
    "lung_cancer_raw_data"
   ]
  },
  {
   "cell_type": "markdown",
   "metadata": {},
   "source": [
    "## Check for abnormal, outliers, duplicates and missing data"
   ]
  },
  {
   "cell_type": "markdown",
   "metadata": {},
   "source": [
    "### Check for duplicate and non-numeric Patient IDs"
   ]
  },
  {
   "cell_type": "code",
   "execution_count": 64,
   "metadata": {},
   "outputs": [
    {
     "name": "stdout",
     "output_type": "stream",
     "text": [
      "Empty DataFrame\n",
      "Columns: [ID, Age, Gender, COPD History, Genetic Markers, Air Pollution Exposure, Last Weight, Current Weight, Start Smoking, Stop Smoking, Taken Bronchodilators, Frequency of Tiredness, Dominant Hand, Lung Cancer Occurrence]\n",
      "Index: []\n",
      "Empty DataFrame\n",
      "Columns: [ID, Age, Gender, COPD History, Genetic Markers, Air Pollution Exposure, Last Weight, Current Weight, Start Smoking, Stop Smoking, Taken Bronchodilators, Frequency of Tiredness, Dominant Hand, Lung Cancer Occurrence]\n",
      "Index: []\n"
     ]
    },
    {
     "data": {
      "text/plain": [
       "False    9997\n",
       "Name: count, dtype: int64"
      ]
     },
     "execution_count": 64,
     "metadata": {},
     "output_type": "execute_result"
    }
   ],
   "source": [
    "# convert any non-numeric ID to NaN\n",
    "lung_cancer_raw_data['ID'] = pd.to_numeric(lung_cancer_raw_data['ID'], errors='coerce')\n",
    "\n",
    "# Filter rows with NaN\n",
    "non_numeric_rows = lung_cancer_raw_data[lung_cancer_raw_data['ID'].isna()]\n",
    "\n",
    "# Display NaN rows (if any). For this dataset, there are no NaN entries\n",
    "print(non_numeric_rows)\n",
    "\n",
    "# Identify duplicates based on the 'ID' column\n",
    "duplicates_mask = lung_cancer_raw_data['ID'].duplicated(keep=False)\n",
    "\n",
    "# Group the DataFrame by the 'ID' column\n",
    "grouped_duplicates = lung_cancer_raw_data[duplicates_mask].sort_values(by='ID')\n",
    "\n",
    "# Display the details of duplicated rows - duplicated entries appear to be entirely similar\n",
    "print(grouped_duplicates)\n",
    "\n",
    "# drop duplicate entries\n",
    "lung_cancer_raw_data.drop_duplicates(subset=['ID'], inplace=True)\n",
    "\n",
    "# Check that duplicate entries have been removed.\n",
    "check_duplicates = lung_cancer_raw_data.duplicated(subset=['ID'], keep='first')\n",
    "\n",
    "check_duplicates.value_counts()\n"
   ]
  },
  {
   "cell_type": "markdown",
   "metadata": {},
   "source": [
    "### Check for negative and missing Age values"
   ]
  },
  {
   "cell_type": "code",
   "execution_count": 40,
   "metadata": {},
   "outputs": [
    {
     "name": "stdout",
     "output_type": "stream",
     "text": [
      "                Age\n",
      "count  10348.000000\n",
      "mean      64.081272\n",
      "std       14.278054\n",
      "min       18.000000\n",
      "25%       55.000000\n",
      "50%       64.000000\n",
      "75%       74.000000\n",
      "max      120.000000\n"
     ]
    },
    {
     "data": {
      "text/plain": [
       "Age  \n",
       "False    10348\n",
       "Name: count, dtype: int64"
      ]
     },
     "execution_count": 40,
     "metadata": {},
     "output_type": "execute_result"
    }
   ],
   "source": [
    "# Create a boolean mask for negative Age values\n",
    "negative_age_mask = lung_cancer_raw_data['Age'] < 0\n",
    "\n",
    "# Filter rows with negative Age values\n",
    "rows_with_negative_age = lung_cancer_raw_data[negative_age_mask]\n",
    "\n",
    "# Update the 'Age' column by using numpy's abs function to convert all -ve ages to +ve\n",
    "lung_cancer_raw_data.loc[negative_age_mask, 'Age'] = np.abs(lung_cancer_raw_data.loc[negative_age_mask, 'Age'])\n",
    "\n",
    "# verify that -ve values in 'Age' column have been corrected.\n",
    "print(lung_cancer_raw_data[[\"Age\"]].describe())\n",
    "\n",
    "# check that there are no missing values for age\n",
    "lung_cancer_raw_data[[\"Age\"]].isnull().value_counts()\n"
   ]
  },
  {
   "cell_type": "markdown",
   "metadata": {},
   "source": [
    "### Check gender data for missing/mispelt entries"
   ]
  },
  {
   "cell_type": "code",
   "execution_count": 44,
   "metadata": {},
   "outputs": [
    {
     "name": "stdout",
     "output_type": "stream",
     "text": [
      "Gender\n",
      "Male      5977\n",
      "Female    4370\n",
      "Name: count, dtype: int64\n"
     ]
    },
    {
     "data": {
      "text/plain": [
       "Age  \n",
       "False    10347\n",
       "Name: count, dtype: int64"
      ]
     },
     "execution_count": 44,
     "metadata": {},
     "output_type": "execute_result"
    }
   ],
   "source": [
    "# Replace \"MALE\" with \"Male\" and \"FEMALE\" with \"Female\"\n",
    "lung_cancer_raw_data[\"Gender\"] = lung_cancer_raw_data[\"Gender\"].replace({\"MALE\": \"Male\", \"FEMALE\": \"Female\"})\n",
    "\n",
    "# Remove row where 'Gender' is 'NAN', since there is only 1 entry\n",
    "lung_cancer_raw_data = lung_cancer_raw_data[lung_cancer_raw_data['Gender'] != 'NAN']\n",
    "\n",
    "print(lung_cancer_raw_data[[\"Gender\"]].value_counts())\n",
    "\n",
    "lung_cancer_raw_data[[\"Age\"]].isnull().value_counts()"
   ]
  },
  {
   "cell_type": "markdown",
   "metadata": {},
   "source": [
    "### Check for non Yes/No entries in COPD History"
   ]
  },
  {
   "cell_type": "code",
   "execution_count": 69,
   "metadata": {},
   "outputs": [
    {
     "data": {
      "text/plain": [
       "COPD History\n",
       "Yes    5499\n",
       "No     4498\n",
       "Name: count, dtype: int64"
      ]
     },
     "execution_count": 69,
     "metadata": {},
     "output_type": "execute_result"
    }
   ],
   "source": [
    "# Check for values other than Yes/No\n",
    "lung_cancer_raw_data['COPD History'].value_counts(dropna=False)\n",
    "\n",
    "# Assumption made that null values should most likely by No, since COPD is a serious condition and it would most likely be documented if it occurred.\n",
    "lung_cancer_raw_data['COPD History'].fillna('No', inplace=True)\n",
    "\n",
    "# Verify that null values have been replaced with No\n",
    "lung_cancer_raw_data['COPD History'].value_counts(dropna=False)"
   ]
  },
  {
   "cell_type": "markdown",
   "metadata": {},
   "source": [
    "### Check for abnormal entries in Genetic Markers"
   ]
  },
  {
   "cell_type": "code",
   "execution_count": 70,
   "metadata": {},
   "outputs": [
    {
     "data": {
      "text/plain": [
       "Genetic Markers\n",
       "Not Present    7518\n",
       "Present        2479\n",
       "Name: count, dtype: int64"
      ]
     },
     "execution_count": 70,
     "metadata": {},
     "output_type": "execute_result"
    }
   ],
   "source": [
    "# Check that there are only Present/Not Present values\n",
    "lung_cancer_raw_data['Genetic Markers'].value_counts(dropna=False)"
   ]
  },
  {
   "cell_type": "markdown",
   "metadata": {},
   "source": [
    "### Check for abnormal entries in Air Pollution Exposure"
   ]
  },
  {
   "cell_type": "code",
   "execution_count": 72,
   "metadata": {},
   "outputs": [
    {
     "data": {
      "text/plain": [
       "Air Pollution Exposure\n",
       "High      6070\n",
       "Low       2336\n",
       "Medium    1588\n",
       "Name: count, dtype: int64"
      ]
     },
     "execution_count": 72,
     "metadata": {},
     "output_type": "execute_result"
    }
   ],
   "source": [
    "# Check that there are only High/Low/Medium values\n",
    "lung_cancer_raw_data['Air Pollution Exposure'].value_counts(dropna=False)\n",
    "\n",
    "# Remove the 3 NaN rows from dataset\n",
    "lung_cancer_raw_data.dropna(subset=['Air Pollution Exposure'], inplace=True)\n",
    "\n",
    "# verify that NaN values have been removed\n",
    "lung_cancer_raw_data['Air Pollution Exposure'].value_counts(dropna=False)"
   ]
  },
  {
   "cell_type": "markdown",
   "metadata": {},
   "source": [
    "### Visualise and get statistics for each independent variable vs the dependent variable (lung cancer occurrence) to see if there is any significant correlation between the 2. Significant correlation could be positive or negative, and would be a large difference between those without lung cancer, and those with lung cancer for that independent variable.\n",
    "\n",
    "### Independent variables deemed significant will be included inside the data for machine learning."
   ]
  },
  {
   "cell_type": "code",
   "execution_count": 35,
   "metadata": {},
   "outputs": [
    {
     "data": {
      "text/html": [
       "<div>\n",
       "<style scoped>\n",
       "    .dataframe tbody tr th:only-of-type {\n",
       "        vertical-align: middle;\n",
       "    }\n",
       "\n",
       "    .dataframe tbody tr th {\n",
       "        vertical-align: top;\n",
       "    }\n",
       "\n",
       "    .dataframe thead th {\n",
       "        text-align: right;\n",
       "    }\n",
       "</style>\n",
       "<table border=\"1\" class=\"dataframe\">\n",
       "  <thead>\n",
       "    <tr style=\"text-align: right;\">\n",
       "      <th></th>\n",
       "      <th>count</th>\n",
       "      <th>mean</th>\n",
       "      <th>std</th>\n",
       "      <th>min</th>\n",
       "      <th>25%</th>\n",
       "      <th>50%</th>\n",
       "      <th>75%</th>\n",
       "      <th>max</th>\n",
       "    </tr>\n",
       "    <tr>\n",
       "      <th>Lung Cancer Occurrence</th>\n",
       "      <th></th>\n",
       "      <th></th>\n",
       "      <th></th>\n",
       "      <th></th>\n",
       "      <th></th>\n",
       "      <th></th>\n",
       "      <th></th>\n",
       "      <th></th>\n",
       "    </tr>\n",
       "  </thead>\n",
       "  <tbody>\n",
       "    <tr>\n",
       "      <th>0</th>\n",
       "      <td>4718.0</td>\n",
       "      <td>63.930055</td>\n",
       "      <td>13.611737</td>\n",
       "      <td>18.0</td>\n",
       "      <td>55.0</td>\n",
       "      <td>64.0</td>\n",
       "      <td>73.0</td>\n",
       "      <td>115.0</td>\n",
       "    </tr>\n",
       "    <tr>\n",
       "      <th>1</th>\n",
       "      <td>5630.0</td>\n",
       "      <td>64.207993</td>\n",
       "      <td>14.813386</td>\n",
       "      <td>18.0</td>\n",
       "      <td>54.0</td>\n",
       "      <td>64.0</td>\n",
       "      <td>74.0</td>\n",
       "      <td>120.0</td>\n",
       "    </tr>\n",
       "  </tbody>\n",
       "</table>\n",
       "</div>"
      ],
      "text/plain": [
       "                         count       mean        std   min   25%   50%   75%  \\\n",
       "Lung Cancer Occurrence                                                         \n",
       "0                       4718.0  63.930055  13.611737  18.0  55.0  64.0  73.0   \n",
       "1                       5630.0  64.207993  14.813386  18.0  54.0  64.0  74.0   \n",
       "\n",
       "                          max  \n",
       "Lung Cancer Occurrence         \n",
       "0                       115.0  \n",
       "1                       120.0  "
      ]
     },
     "execution_count": 35,
     "metadata": {},
     "output_type": "execute_result"
    }
   ],
   "source": [
    "lung_cancer_vs_age = lung_cancer_raw_data.groupby('Lung Cancer Occurrence')['Age'].describe()\n",
    "lung_cancer_vs_age"
   ]
  },
  {
   "cell_type": "code",
   "execution_count": 36,
   "metadata": {},
   "outputs": [
    {
     "data": {
      "text/plain": [
       "<Axes: >"
      ]
     },
     "execution_count": 36,
     "metadata": {},
     "output_type": "execute_result"
    },
    {
     "data": {
      "image/png": "[encoded data removed]",
      "text/plain": [
       "<Figure size 600x600 with 1 Axes>"
      ]
     },
     "metadata": {},
     "output_type": "display_data"
    }
   ],
   "source": [
    "lung_cancer_raw_data.pivot(columns='Lung Cancer Occurrence', values='Age').plot(kind='box', figsize=(6,6))"
   ]
  },
  {
   "cell_type": "code",
   "execution_count": null,
   "metadata": {},
   "outputs": [],
   "source": []
  }
 ],
 "metadata": {
  "kernelspec": {
   "display_name": "venv",
   "language": "python",
   "name": "python3"
  },
  "language_info": {
   "codemirror_mode": {
    "name": "ipython",
    "version": 3
   },
   "file_extension": ".py",
   "mimetype": "text/x-python",
   "name": "python",
   "nbconvert_exporter": "python",
   "pygments_lexer": "ipython3",
   "version": "3.9.6"
  }
 },
 "nbformat": 4,
 "nbformat_minor": 2
}
